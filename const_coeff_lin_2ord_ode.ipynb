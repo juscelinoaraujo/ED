{
  "nbformat": 4,
  "nbformat_minor": 0,
  "metadata": {
    "colab": {
      "provenance": []
    },
    "kernelspec": {
      "name": "python3",
      "display_name": "Python 3"
    },
    "language_info": {
      "name": "python"
    }
  },
  "cells": [
    {
      "cell_type": "code",
      "source": [
        "import matplotlib.pyplot as plt\n",
        "import numpy as np"
      ],
      "metadata": {
        "id": "qgoWPYDM7ETS"
      },
      "execution_count": 2,
      "outputs": []
    },
    {
      "cell_type": "markdown",
      "source": [
        "## Raízes reais e distintas\n",
        "\n",
        "Quando as raízes $r_1$ e $r_2$ do polinômio característico são reais e distintas, a solução da EDO é dada por\n",
        "\n",
        "$u(x)=k_1e^{r_1x}+k_2e^{r_2x}$,\n",
        "\n",
        "sendo\n",
        "\n",
        "$k_1=\\dfrac{u_L-u_0e^{r_2L}}{e^{r_1L}-e^{r_2L}}$\n",
        "\n",
        "e\n",
        "\n",
        "$k_2=\\dfrac{u_0e^{r_1L}-u_L}{e^{r_1L}-e^{r_2L}}$."
      ],
      "metadata": {
        "id": "zttuI6F8IbYr"
      }
    },
    {
      "cell_type": "code",
      "source": [
        "def two_real_roots_solution(x, u0, L, uL, r1, r2):\n",
        "  # Solução quando o polinômio característico tem duas raízes reais e distintas\n",
        "  # Entrada:\n",
        "  # x  : valor do domínio\n",
        "  # u0 : primeira condição de fronteira\n",
        "  # L  : valor da segunda condição de fronteira\n",
        "  # uL : valor da segunda condição de fronteira\n",
        "  # r1 : primeira raiz do polinômio caracteístico\n",
        "  # r2 : segunda raiz do polinômio característico\n",
        "  # Saída:\n",
        "  # u  : imagem de x por u\n",
        "  k1 = (uL - u0*np.exp(r2*L))/(np.exp(r1*L) - np.exp(r2*L))\n",
        "  k2 = (u0*np.exp(r1*L) - uL)/(np.exp(r1*L) - np.exp(r2*L))\n",
        "  u = k1*np.exp(r1*x) + k2*np.exp(r2*x)\n",
        "  return u"
      ],
      "metadata": {
        "id": "xVZ26dk2-y_3"
      },
      "execution_count": 3,
      "outputs": []
    },
    {
      "cell_type": "markdown",
      "source": [
        "## Duas raízes reais idênticas\n",
        "\n",
        "Quando as raízes do polinômio característico são reais e idênticas ($r_1=r_2=r$), a solução é dada por\n",
        "\n",
        "$u(x)=k_1e^{rx}+k_2xe^{rx}$,\n",
        "\n",
        "sendo\n",
        "\n",
        "$k_1=u_0$\n",
        "\n",
        "e\n",
        "\n",
        "$k_2=\\dfrac{u_L - u_0e^{rL}}{Le^{rL}}$."
      ],
      "metadata": {
        "id": "h4Miw6vvSZHE"
      }
    },
    {
      "cell_type": "code",
      "source": [
        "def one_real_root_solution(x, u0, L, uL, r):\n",
        "  # Solução quando o polinômio característico tem duas raízes reais idênticas\n",
        "  # Entrada:\n",
        "  # x  : valor do domínio\n",
        "  # u0 : primeira condição de fronteira\n",
        "  # L  : valor da segunda condição de fronteira\n",
        "  # uL : valor da segunda condição de fronteira\n",
        "  # r  : raiz do polinômio caracteístico\n",
        "  # Saída:\n",
        "  # u  : imagem de x por u\n",
        "  k1 = u0\n",
        "  k2 = (uL - u0*np.exp(r*L))/L*np.exp(r*L)\n",
        "  u = k1*np.exp(r*x) + k2*x*np.exp(r*x)\n",
        "  return u"
      ],
      "metadata": {
        "id": "yCJo7xhmLetW"
      },
      "execution_count": 4,
      "outputs": []
    },
    {
      "cell_type": "markdown",
      "source": [
        "## Duas raízes complexas\n",
        "\n",
        "Quando o polinômio característico tem duas raízes complexas, uma é o conjugado da outra. Assim, se $r_1=\\phi+j\\omega$, então $r_2=\\phi-j\\omega$. Aqui se usa $j$ como a constante imaginária que satisfaz $j^2=-1$. Note que\n",
        "\n",
        "$\\phi=-\\dfrac{\\beta}{2\\alpha}$\n",
        "\n",
        "e que\n",
        "\n",
        "$\\omega = -\\dfrac{\\sqrt{\\Delta}}{2\\alpha}$.\n",
        "\n",
        "A solução da EDO nesse caso é dada por\n",
        "\n",
        "$u(x)=e^{\\phi x}[k_1 cos(\\omega x)+k_2 sen(\\omega x)]$,\n",
        "\n",
        "sendo\n",
        "\n",
        "$k_1 = u_0$\n",
        "\n",
        "e\n",
        "\n",
        "$k_2 = \\dfrac{u_L/e^{\\phi L} - u_0 cos(\\omega L)}{sen(\\omega L)}$."
      ],
      "metadata": {
        "id": "reHEtn-DOjp-"
      }
    },
    {
      "cell_type": "code",
      "source": [
        "def two_complex_roots_solution(x, u0, L, uL, phi, omega):\n",
        "  # Solução quando o polinômio característico tem duas raízes complexas\n",
        "  # Entrada:\n",
        "  # x     : valor do domínio\n",
        "  # u0    : primeira condição de fronteira\n",
        "  # L     : valor da segunda condição de fronteira\n",
        "  # uL    : valor da segunda condição de fronteira\n",
        "  # phi   : componente real das raízes do polinômio caracteístico\n",
        "  # omega : pseudofrequência\n",
        "  # Saída:\n",
        "  # u     : imagem de x por u\n",
        "  k1 = u0\n",
        "  k2 = (uL/np.exp(phi*L) - u0*np.cos(omega*L))/np.sin(omega*L)\n",
        "  u = np.exp(phi*x)*(k1*np.cos(omega*x) + k2*np.sin(omega*x))\n",
        "  return u"
      ],
      "metadata": {
        "id": "VJHkuBUZTb9W"
      },
      "execution_count": 5,
      "outputs": []
    },
    {
      "cell_type": "code",
      "source": [
        "def ode(alpha, beta, gamma, u0, L, uL, N):\n",
        "  # Solução da EDO linear de 2a ordem de coeficientes constantes\n",
        "  # Entrada:\n",
        "  # alpha : coeficiente da segunda derivada de u\n",
        "  # beta  : coeficiente da primeira derivada de u\n",
        "  # gamma : coeficiente de u\n",
        "  # u0    : valor da primeira condição de fronteira\n",
        "  # L     : fronteira final\n",
        "  # uL    : valor da segunda condição de fronteira\n",
        "  # N     : número de pontos\n",
        "  # Saída:\n",
        "  # Gráfico da solução analítica\n",
        "  u = np.zeros(N+1)                 # vetor com a solução\n",
        "  u[N] = uL                         # condição de fronteira\n",
        "  h = L/N                           # passo\n",
        "  delta = beta*beta - 4*alpha*gamma # discriminante\n",
        "  if delta > 0:\n",
        "    r1 = (-beta + np.sqrt(delta))/(2*alpha) # primeira raiz real\n",
        "    r2 = (-beta - np.sqrt(delta))/(2*alpha) # segunda raiz real\n",
        "    for i in range(N):\n",
        "      x = i*h\n",
        "      u[i] = two_real_roots_solution(x, u0, L, uL, r1, r2)\n",
        "  elif delta == 0:\n",
        "    r = -beta/(2*alpha) # raiz real única\n",
        "    for i in range(N):\n",
        "      x = i*h\n",
        "      u[i] = one_real_root_solution(x, u0, L, uL, r)\n",
        "  else:\n",
        "    phi = -beta/(2*alpha)             # componente real das raízes complexas\n",
        "    omega = np.sqrt(-delta)/(2*alpha) # pseudofrequência\n",
        "    for i in range(N):\n",
        "      x = i*h\n",
        "      u[i] = two_complex_roots_solution(x, u0, L, uL, phi, omega)\n",
        "  plt.title(\"Solução Analítica do Problema de Valor de Contorno\")\n",
        "  plt.xlabel(\"x\")\n",
        "  plt.ylabel(\"u(x)\")\n",
        "  x = np.linspace(0, L, len(u))\n",
        "  plt.plot(x, u)\n",
        "  plt.show()"
      ],
      "metadata": {
        "id": "yHP2zY-sRKUI"
      },
      "execution_count": 6,
      "outputs": []
    },
    {
      "cell_type": "code",
      "source": [
        "u = ode(alpha=1, beta=100, gamma=3, u0=5, L=1, uL=5, N=200)\n"
      ],
      "metadata": {
        "colab": {
          "base_uri": "https://localhost:8080/",
          "height": 472
        },
        "id": "EiXS46da076u",
        "outputId": "5d63477b-2d7f-4049-d26f-cad29edb8ffc"
      },
      "execution_count": 11,
      "outputs": [
        {
          "output_type": "display_data",
          "data": {
            "text/plain": [
              "<Figure size 640x480 with 1 Axes>"
            ],
            "image/png": "[encoded data removed]"
          },
          "metadata": {}
        }
      ]
    }
  ]
}